{
 "cells": [
  {
   "cell_type": "code",
   "execution_count": 1,
   "metadata": {},
   "outputs": [],
   "source": [
    "import os\n",
    "import pandas as pd\n"
   ]
  },
  {
   "cell_type": "code",
   "execution_count": null,
   "metadata": {},
   "outputs": [],
   "source": [
    "filepath = \"Resources/MUP_INP_RY24_P03_V10_DY22_PrvSvc.csv\"\n",
    "codefilepath = \"Resources/DRG_to_MDC_Crosswalk.xlsx\"\n",
    "rucafilepath = \"Resources/ruca_codes.csv\"\n",
    "\n",
    "fulldata = pd.read_csv(filepath, encoding='ISO-8859-1')\n",
    "codedata = pd.read_excel(codefilepath)\n",
    "rucadata = pd.read_csv(rucafilepath)\n",
    "\n",
    "fulldata.head()"
   ]
  },
  {
   "cell_type": "code",
   "execution_count": 3,
   "metadata": {},
   "outputs": [],
   "source": [
    "validdata = fulldata.drop(fulldata.columns[[0,1,2,3,4,8,10]], axis=1)\n"
   ]
  },
  {
   "cell_type": "code",
   "execution_count": null,
   "metadata": {},
   "outputs": [],
   "source": [
    "validdata = validdata.rename(columns={\n",
    "    'Rndrng_Prvdr_Zip5': 'zip',\n",
    "    'Rndrng_Prvdr_State_Abrvtn': 'state',\n",
    "    'Rndrng_Prvdr_RUCA': 'RUCA',\n",
    "    'Tot_Dschrgs': 'discharges',\n",
    "    'Avg_Submtd_Cvrd_Chrg': 'avg_covered_charge',\n",
    "    'Avg_Tot_Pymt_Amt': 'avg_total_payment',\n",
    "    'Avg_Mdcr_Pymt_Amt': 'avg_medicare_payment',\n",
    "})\n",
    "validdata.head()"
   ]
  },
  {
   "cell_type": "code",
   "execution_count": null,
   "metadata": {},
   "outputs": [],
   "source": [
    "\n",
    "validdata['avg_oop'] = validdata['avg_total_payment']-validdata['avg_medicare_payment']\n",
    "\n",
    "validdata.head()"
   ]
  },
  {
   "cell_type": "code",
   "execution_count": null,
   "metadata": {},
   "outputs": [],
   "source": [
    "validdata = validdata.dropna(subset=['RUCA'])\n",
    "validdata.info()"
   ]
  },
  {
   "cell_type": "code",
   "execution_count": null,
   "metadata": {},
   "outputs": [],
   "source": [
    "#Prepare DRG to MDC code conversion file for merging by renaming DRG Code column \n",
    "codedata = codedata.rename(columns={\"DRG_CODE\":\"DRG_Cd\"})\n",
    "\n",
    "#Merge validdata set with coding dataset to assign MDC codes to each column\n",
    "alldata= pd.merge(codedata,validdata, how=\"left\", on='DRG_Cd')\n",
    "alldata.head()"
   ]
  },
  {
   "cell_type": "code",
   "execution_count": null,
   "metadata": {},
   "outputs": [],
   "source": [
    "alldata.dtypes\n"
   ]
  },
  {
   "cell_type": "code",
   "execution_count": null,
   "metadata": {},
   "outputs": [],
   "source": [
    "#Merge rucadata set with alldata dataset to assign MDC codes to each column\n",
    "alldata= pd.merge(rucadata,alldata, how=\"left\", on='RUCA')\n",
    "\n",
    "alldata.head()"
   ]
  },
  {
   "cell_type": "code",
   "execution_count": null,
   "metadata": {},
   "outputs": [],
   "source": [
    "alldata= alldata.drop(alldata.columns[[0,1,3]], axis=1)\n",
    "alldata = alldata.rename(columns={\"Description\":\"mdc_desc\"})\n",
    "alldata.head()"
   ]
  },
  {
   "cell_type": "code",
   "execution_count": null,
   "metadata": {},
   "outputs": [],
   "source": [
    "alldata = alldata.rename(columns={\"MDC_CODE\":\"mdc_code\"})\n",
    "newcolumnorder= ['state','zip','c_type','mdc_code','mdc_desc','discharges','avg_covered_charge','avg_total_payment','avg_medicare_payment','avg_oop']\n",
    "alldata = alldata[newcolumnorder]\n",
    "alldata['zip'] = alldata['zip'].astype(int)\n",
    "alldata['discharges'] = alldata['discharges'].astype(int)\n",
    "alldata.head()"
   ]
  },
  {
   "cell_type": "code",
   "execution_count": null,
   "metadata": {},
   "outputs": [],
   "source": [
    "alldata.info()"
   ]
  },
  {
   "cell_type": "code",
   "execution_count": 16,
   "metadata": {},
   "outputs": [],
   "source": [
    "alldata.to_csv('cleanedmedicaredata.csv', index=False)"
   ]
  }
 ],
 "metadata": {
  "kernelspec": {
   "display_name": "dev",
   "language": "python",
   "name": "python3"
  },
  "language_info": {
   "codemirror_mode": {
    "name": "ipython",
    "version": 3
   },
   "file_extension": ".py",
   "mimetype": "text/x-python",
   "name": "python",
   "nbconvert_exporter": "python",
   "pygments_lexer": "ipython3",
   "version": "3.10.14"
  }
 },
 "nbformat": 4,
 "nbformat_minor": 2
}
